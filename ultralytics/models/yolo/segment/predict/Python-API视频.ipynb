{
 "cells": [
  {
   "cell_type": "markdown",
   "id": "5801b524f82454c4",
   "metadata": {
    "collapsed": false
   },
   "source": [
    "## 导入工具包"
   ]
  },
  {
   "cell_type": "code",
   "execution_count": 1,
   "id": "1cb7844c42de3f3b",
   "metadata": {
    "collapsed": false
   },
   "outputs": [],
   "source": [
    "from ultralytics.models.yolo.segment import SegmentationPredictor\n",
    "from ultralytics.utils import DEFAULT_CFG\n",
    "import cv2\n",
    "import torch\n",
    "import matplotlib.pyplot as plt\n",
    "import numpy as np\n",
    "from tqdm import tqdm\n",
    "%matplotlib inline"
   ]
  },
  {
   "cell_type": "markdown",
   "id": "498151be54c754b6",
   "metadata": {
    "collapsed": false
   },
   "source": [
    "## 载入模型、载入source、device"
   ]
  },
  {
   "cell_type": "code",
   "execution_count": 2,
   "id": "4995b67a0d2714e6",
   "metadata": {
    "collapsed": false
   },
   "outputs": [],
   "source": [
    "# 载入模型\n",
    "model = 'best.pt'\n",
    "# 添加预测源\n",
    "source = None\n",
    "# 选择cup还是gpu运行\n",
    "device = torch.device('cuda:0' if torch.cuda.is_available() else 'cpu')\n",
    "# 合并参数 verbose设置为False，不单独打印每一帧预测结果\n",
    "args = dict(model=model, source=source, device=device, save=False, verbose=False)\n",
    "# 进行预测 \n",
    "predictor = SegmentationPredictor(cfg=DEFAULT_CFG,overrides=args)"
   ]
  },
  {
   "cell_type": "markdown",
   "id": "b4686edb",
   "metadata": {},
   "source": []
  },
  {
   "cell_type": "markdown",
   "id": "7a7fedd256a5e6db",
   "metadata": {
    "collapsed": false
   },
   "source": [
    "## 可视化配置"
   ]
  },
  {
   "cell_type": "code",
   "execution_count": 3,
   "id": "5f49433474bacf30",
   "metadata": {
    "collapsed": false
   },
   "outputs": [],
   "source": [
    "# 画图的可视化配置\n",
    "# 框（rectangle）可视化配置\n",
    "bbox_color = {\n",
    "    0: (128, 64, 128),  #road\n",
    "    1: (244, 35, 232),  #sidewalk\n",
    "    2: (70, 70, 70),  #building\n",
    "    3: (102, 102, 156),  #wall\n",
    "    4: (190, 153, 153),  #fence\n",
    "    5: (153, 153, 153),  #pole\n",
    "    6: (250, 170, 30),  #traffic light\n",
    "    7: (220, 220, 0),  #traffic sign\n",
    "    8: (107, 142, 35),  #vegetation\n",
    "    9: (152, 251, 152),  #terrain\n",
    "    10: (70, 130, 180),  #sky\n",
    "    11: (220, 20, 60),  #person\n",
    "    12: (255, 0, 0),  #rider\n",
    "    13: (0, 0, 142),  #car\n",
    "    14: (0, 0, 70),  #truck\n",
    "    15: (0, 60, 100),  #bus\n",
    "    16: (0, 80, 100),  #train\n",
    "    17: (0, 0, 230),  #motorcycle\n",
    "    18: (119, 11, 32),  #bicycle\n",
    "}            # 框的 BGR 颜色\n",
    "bbox_thickness = 6                   # 框的线宽\n",
    "\n",
    "# 框类别文字\n",
    "bbox_labelstr = {\n",
    "    'font_size': 2,         # 字体大小\n",
    "    'font_thickness': 2,   # 字体粗细\n",
    "    'offset_x': 0,          # X 方向，文字偏移距离，向右为正\n",
    "    'offset_y': -80,        # Y 方向，文字偏移距离，向下为正\n",
    "}"
   ]
  },
  {
   "cell_type": "markdown",
   "id": "b90cf71c17efc952",
   "metadata": {
    "collapsed": false
   },
   "source": [
    "## 逐帧处理函数"
   ]
  },
  {
   "cell_type": "code",
   "execution_count": 4,
   "id": "c16893c67b7f21cb",
   "metadata": {
    "collapsed": false
   },
   "outputs": [],
   "source": [
    "def process_frame(img_bgr):\n",
    "    '''\n",
    "    输入摄像头画面 bgr-array，输出图像 bgr-array\n",
    "    '''\n",
    "    # 预测\n",
    "    results = predictor(source=img_bgr,stream=True)\n",
    "    \n",
    "    # 解析目标检测框\n",
    "    cls_names = results[0].names  # 类别对应的名称\n",
    "    bboxes_cls = results[0].boxes.cls.numpy().astype('uint32')  # 检测框所对应的类别ID\n",
    "    num_bbox = len(bboxes_cls)  # 预测num_bbox框\n",
    "    bboxes_conf = results[0].boxes.conf.numpy().astype('float32')  # 检测框的置信度\n",
    "    # 转成整数的 numpy array\n",
    "    bboxes_xyxy = results[0].boxes.xyxy.cpu().numpy().astype('uint32')  # 检测框的坐标 xyxy（左上，右下）\n",
    "\n",
    "    # 解释语义分割结果\n",
    "    mask = results[0].masks\n",
    "    # 获取语义分割多个坐标点\n",
    "    ploy = mask.xy\n",
    "\n",
    "    # 创建一个与原始图像同样大小的透明层 进行语义分割填充\n",
    "    pred_mask_bgr = np.zeros((img_bgr.shape[0], img_bgr.shape[1], 3))\n",
    "    pred_mask_bgr = pred_mask_bgr.astype('uint8')\n",
    "    for idx in range(num_bbox): # 遍历每个框\n",
    "        # 获取该框坐标\n",
    "        bbox_xyxy = bboxes_xyxy[idx]\n",
    "        \n",
    "        # 获取框的预测类别\n",
    "        cls_idx = bboxes_cls[idx]\n",
    "        bbox_label = cls_names[cls_idx]\n",
    "\n",
    "        # 获取框的预测置信度\n",
    "        bbox_conf = bboxes_conf[idx]\n",
    "        \n",
    "        # 画框\n",
    "        img_bgr = cv2.rectangle(img_bgr, (bbox_xyxy[0], bbox_xyxy[1]), (bbox_xyxy[2], bbox_xyxy[3]), bbox_color[cls_idx], bbox_thickness)\n",
    "        \n",
    "        # 写框类别文字：图片，文字字符串，文字左上角坐标，字体，字体大小，颜色，字体粗细\n",
    "        # img_bgr = cv2.putText(img_bgr, bbox_label, (bbox_xyxy[0]+bbox_labelstr['offset_x'], bbox_xyxy[1]+bbox_labelstr['offset_y']), cv2.FONT_HERSHEY_SIMPLEX, bbox_labelstr['font_size'], bbox_color[cls_idx], bbox_labelstr['font_thickness'])\n",
    "\n",
    "        # 写框置信度\n",
    "        # img_bgr = cv2.putText(img_bgr, '{:.2f}'.format(bbox_conf), (bbox_xyxy[0]-bbox_labelstr['offset_x'], bbox_xyxy[1]-bbox_labelstr['offset_y']), cv2.FONT_HERSHEY_SIMPLEX, bbox_labelstr['font_size'], bbox_color[cls_idx], bbox_labelstr['font_thickness'])\n",
    "\n",
    "        # 进行语义分割填充\n",
    "        pred_mask_bgr = cv2.fillPoly(pred_mask_bgr, [ploy[idx].astype('int32')], color=bbox_color[cls_idx])\n",
    "\n",
    "    # 混合原始图像和img_mask层\n",
    "    alpha = 0.4  # 设置透明度\n",
    "    img_bgr = cv2.addWeighted(pred_mask_bgr, alpha, img_bgr, 1 - alpha, 0)\n",
    "\n",
    "    return img_bgr"
   ]
  },
  {
   "cell_type": "markdown",
   "id": "49f11119899b3702",
   "metadata": {
    "collapsed": false
   },
   "source": [
    "## 视频逐帧处理（模板）"
   ]
  },
  {
   "cell_type": "code",
   "execution_count": null,
   "id": "a73b69abcd321683",
   "metadata": {
    "collapsed": false
   },
   "outputs": [],
   "source": [
    "def generate_video(input_path='videos/robot.mp4'):\n",
    "    filehead = input_path.split('/')[-1].split('.')[0]\n",
    "    output_path = \"out-\" + filehead + '.mp4'\n",
    "    \n",
    "    print('视频开始处理',input_path)\n",
    "    \n",
    "    # 获取视频总帧数\n",
    "    cap = cv2.VideoCapture(input_path)\n",
    "    frame_count = 0\n",
    "    while(cap.isOpened()):\n",
    "        success, frame = cap.read()\n",
    "        frame_count += 1\n",
    "        if not success:\n",
    "            break\n",
    "    cap.release()\n",
    "    print('视频总帧数为',frame_count)\n",
    "    \n",
    "    # cv2.namedWindow('Crack Detection and Measurement Video Processing')\n",
    "    cap = cv2.VideoCapture(input_path)\n",
    "    frame_size = (cap.get(cv2.CAP_PROP_FRAME_WIDTH), cap.get(cv2.CAP_PROP_FRAME_HEIGHT))\n",
    "\n",
    "    # fourcc = int(cap.get(cv2.CAP_PROP_FOURCC))\n",
    "    # fourcc = cv2.VideoWriter_fourcc(*'XVID')\n",
    "    fourcc = cv2.VideoWriter_fourcc(*'mp4v')\n",
    "    # fourcc = cv2.VideoWriter_fourcc(*'mp4v')\n",
    "    fps = cap.get(cv2.CAP_PROP_FPS)\n",
    "\n",
    "    out = cv2.VideoWriter(output_path, fourcc, fps, (int(frame_size[0]), int(frame_size[1])))\n",
    "    \n",
    "    # 进度条绑定视频总帧数\n",
    "    with tqdm(total=frame_count-1) as pbar:\n",
    "        try:\n",
    "            while(cap.isOpened()):\n",
    "                success, frame = cap.read()\n",
    "                if not success:\n",
    "                    break\n",
    "\n",
    "                # # 处理帧\n",
    "                # frame_path = './temp_frame.png'\n",
    "                # cv2.imwrite(frame_path, frame)\n",
    "                try:\n",
    "                    frame = process_frame(frame)\n",
    "                except Exception as error:\n",
    "                    print('报错！', error)\n",
    "                    pass\n",
    "                \n",
    "                if success == True:\n",
    "                    cv2.imshow('Video Processing', frame)\n",
    "                    out.write(frame)\n",
    "\n",
    "                    # 进度条更新一帧\n",
    "                    pbar.update(1)\n",
    "\n",
    "                # if cv2.waitKey(1) & 0xFF == ord('q'):\n",
    "                    # break\n",
    "        except:\n",
    "            print('中途中断')\n",
    "            pass\n",
    "\n",
    "    cv2.destroyAllWindows()\n",
    "    out.release()\n",
    "    cap.release()\n",
    "    print('视频已保存', output_path)"
   ]
  },
  {
   "cell_type": "markdown",
   "id": "d291e7df79dd4bf5",
   "metadata": {
    "collapsed": false
   },
   "source": [
    "## 视频预测"
   ]
  },
  {
   "cell_type": "code",
   "execution_count": 6,
   "id": "5848ca3f555b5e07",
   "metadata": {
    "collapsed": false,
    "is_executing": true
   },
   "outputs": [
    {
     "name": "stdout",
     "output_type": "stream",
     "text": [
      "视频开始处理 stuttgart_00.avi\n",
      "视频总帧数为 600\n"
     ]
    },
    {
     "name": "stderr",
     "output_type": "stream",
     "text": [
      "  0%|          | 0/599 [00:00<?, ?it/s]"
     ]
    },
    {
     "name": "stdout",
     "output_type": "stream",
     "text": [
      "YOLOv8n-seg summary (fused): 195 layers, 3261769 parameters, 0 gradients, 12.0 GFLOPs\n"
     ]
    },
    {
     "name": "stderr",
     "output_type": "stream",
     "text": [
      "  2%|▏         | 12/599 [00:02<01:46,  5.51it/s]"
     ]
    },
    {
     "ename": "",
     "evalue": "",
     "output_type": "error",
     "traceback": [
      "\u001b[1;31mThe Kernel crashed while executing code in the current cell or a previous cell. \n",
      "\u001b[1;31mPlease review the code in the cell(s) to identify a possible cause of the failure. \n",
      "\u001b[1;31mClick <a href='https://aka.ms/vscodeJupyterKernelCrash'>here</a> for more info. \n",
      "\u001b[1;31mView Jupyter <a href='command:jupyter.viewOutput'>log</a> for further details."
     ]
    }
   ],
   "source": [
    "generate_video(input_path='stuttgart_00.avi')"
   ]
  },
  {
   "cell_type": "code",
   "execution_count": null,
   "id": "7198c4f8",
   "metadata": {
    "is_executing": true
   },
   "outputs": [],
   "source": []
  }
 ],
 "metadata": {
  "kernelspec": {
   "display_name": "yolov8",
   "language": "python",
   "name": "python3"
  },
  "language_info": {
   "codemirror_mode": {
    "name": "ipython",
    "version": 3
   },
   "file_extension": ".py",
   "mimetype": "text/x-python",
   "name": "python",
   "nbconvert_exporter": "python",
   "pygments_lexer": "ipython3",
   "version": "3.9.18"
  }
 },
 "nbformat": 4,
 "nbformat_minor": 5
}
